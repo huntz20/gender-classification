{
 "cells": [
  {
   "cell_type": "code",
   "execution_count": 29,
   "metadata": {
    "collapsed": true
   },
   "outputs": [],
   "source": [
    "import pandas as pd\n",
    "from tensorflow.keras.models import load_model\n",
    "from helper.metric import f1_m, recall_m, precision_m\n",
    "from skimage import io\n",
    "from helper.face_detection import detect_faces\n",
    "from tensorflow.keras.preprocessing.image import load_img, img_to_array, array_to_img\n",
    "from PIL import Image\n",
    "from tqdm import tqdm\n",
    "\n",
    "tqdm.pandas()"
   ]
  },
  {
   "cell_type": "code",
   "execution_count": 30,
   "outputs": [
    {
     "data": {
      "text/plain": "                                       id\n0    005093b2-8c4b-4ed7-91c3-f5f4d50f8d27\n1    0052554e-069e-4c43-beb0-0885e8f7684e\n2    0092b954-1143-4a95-a17b-1edfa6af3b01\n3    009fc28b-fe9b-441d-b8a2-ea8b7ae6ca16\n4    00d0e306-06fe-45d8-ae6c-6f83ab8f7810\n..                                    ...\n985  feb9e70f-4182-4500-866d-9b95657e727c\n986  fed67ed2-620a-4ebf-b61e-16ef3d9b93f7\n987  ff14c77e-c3c2-46db-9341-30de4130ef8a\n988  ff662f3f-8c76-4d27-a73e-c43c4353f798\n989  ffa30e4a-c056-4a2d-8c63-d266810d0791\n\n[990 rows x 1 columns]",
      "text/html": "<div>\n<style scoped>\n    .dataframe tbody tr th:only-of-type {\n        vertical-align: middle;\n    }\n\n    .dataframe tbody tr th {\n        vertical-align: top;\n    }\n\n    .dataframe thead th {\n        text-align: right;\n    }\n</style>\n<table border=\"1\" class=\"dataframe\">\n  <thead>\n    <tr style=\"text-align: right;\">\n      <th></th>\n      <th>id</th>\n    </tr>\n  </thead>\n  <tbody>\n    <tr>\n      <th>0</th>\n      <td>005093b2-8c4b-4ed7-91c3-f5f4d50f8d27</td>\n    </tr>\n    <tr>\n      <th>1</th>\n      <td>0052554e-069e-4c43-beb0-0885e8f7684e</td>\n    </tr>\n    <tr>\n      <th>2</th>\n      <td>0092b954-1143-4a95-a17b-1edfa6af3b01</td>\n    </tr>\n    <tr>\n      <th>3</th>\n      <td>009fc28b-fe9b-441d-b8a2-ea8b7ae6ca16</td>\n    </tr>\n    <tr>\n      <th>4</th>\n      <td>00d0e306-06fe-45d8-ae6c-6f83ab8f7810</td>\n    </tr>\n    <tr>\n      <th>...</th>\n      <td>...</td>\n    </tr>\n    <tr>\n      <th>985</th>\n      <td>feb9e70f-4182-4500-866d-9b95657e727c</td>\n    </tr>\n    <tr>\n      <th>986</th>\n      <td>fed67ed2-620a-4ebf-b61e-16ef3d9b93f7</td>\n    </tr>\n    <tr>\n      <th>987</th>\n      <td>ff14c77e-c3c2-46db-9341-30de4130ef8a</td>\n    </tr>\n    <tr>\n      <th>988</th>\n      <td>ff662f3f-8c76-4d27-a73e-c43c4353f798</td>\n    </tr>\n    <tr>\n      <th>989</th>\n      <td>ffa30e4a-c056-4a2d-8c63-d266810d0791</td>\n    </tr>\n  </tbody>\n</table>\n<p>990 rows × 1 columns</p>\n</div>"
     },
     "execution_count": 30,
     "metadata": {},
     "output_type": "execute_result"
    }
   ],
   "source": [
    "submission = pd.read_csv(\"../data/submission.csv\")\n",
    "submission"
   ],
   "metadata": {
    "collapsed": false,
    "pycharm": {
     "name": "#%%\n"
    }
   }
  },
  {
   "cell_type": "code",
   "execution_count": 31,
   "outputs": [],
   "source": [
    "model = load_model(\"../model/sequence/gender_classification_model.h5\",\n",
    "                   custom_objects={'f1_m': f1_m, 'recall_m': recall_m, 'precision_m': precision_m})"
   ],
   "metadata": {
    "collapsed": false,
    "pycharm": {
     "name": "#%%\n"
    }
   }
  },
  {
   "cell_type": "code",
   "execution_count": 32,
   "outputs": [],
   "source": [
    "def predict_gender(image_name):\n",
    "    try:\n",
    "        img_path = '../data/Testing/{}.jpg'\n",
    "        image = io.imread(img_path.format(image_name))\n",
    "        detected_faces = detect_faces(image)\n",
    "        face_target = Image.fromarray(image).crop(detected_faces[0])\n",
    "        h, w = face_target.size\n",
    "        img = img_to_array(face_target)\n",
    "        img = img / 255\n",
    "        img = img.reshape(1, h, w, 3)\n",
    "        prob = model.predict(img)[0][0]\n",
    "        if prob <= 0.5:\n",
    "            return int(0)\n",
    "        else:\n",
    "            return int(1)\n",
    "    except IndexError:\n",
    "       return int(1)\n",
    "       pass\n"
   ],
   "metadata": {
    "collapsed": false,
    "pycharm": {
     "name": "#%%\n"
    }
   }
  },
  {
   "cell_type": "code",
   "execution_count": 33,
   "outputs": [
    {
     "data": {
      "text/plain": "'005093b2-8c4b-4ed7-91c3-f5f4d50f8d27'"
     },
     "execution_count": 33,
     "metadata": {},
     "output_type": "execute_result"
    }
   ],
   "source": [
    "submission.iloc[0][\"id\"]"
   ],
   "metadata": {
    "collapsed": false,
    "pycharm": {
     "name": "#%%\n"
    }
   }
  },
  {
   "cell_type": "code",
   "execution_count": 34,
   "outputs": [
    {
     "name": "stderr",
     "output_type": "stream",
     "text": [
      "2021-10-27 05:59:53.328362: I tensorflow/compiler/mlir/mlir_graph_optimization_pass.cc:185] None of the MLIR Optimization Passes are enabled (registered 2)\n"
     ]
    },
    {
     "data": {
      "text/plain": "0"
     },
     "execution_count": 34,
     "metadata": {},
     "output_type": "execute_result"
    }
   ],
   "source": [
    "predict_gender(submission.iloc[0][\"id\"])"
   ],
   "metadata": {
    "collapsed": false,
    "pycharm": {
     "name": "#%%\n"
    }
   }
  },
  {
   "cell_type": "code",
   "execution_count": 35,
   "outputs": [
    {
     "name": "stderr",
     "output_type": "stream",
     "text": [
      "100%|██████████| 990/990 [15:18<00:00,  1.08it/s]\n"
     ]
    },
    {
     "data": {
      "text/plain": "                                       id  jenis kelamin\n0    005093b2-8c4b-4ed7-91c3-f5f4d50f8d27              0\n1    0052554e-069e-4c43-beb0-0885e8f7684e              0\n2    0092b954-1143-4a95-a17b-1edfa6af3b01              0\n3    009fc28b-fe9b-441d-b8a2-ea8b7ae6ca16              0\n4    00d0e306-06fe-45d8-ae6c-6f83ab8f7810              1\n..                                    ...            ...\n985  feb9e70f-4182-4500-866d-9b95657e727c              0\n986  fed67ed2-620a-4ebf-b61e-16ef3d9b93f7              0\n987  ff14c77e-c3c2-46db-9341-30de4130ef8a              1\n988  ff662f3f-8c76-4d27-a73e-c43c4353f798              1\n989  ffa30e4a-c056-4a2d-8c63-d266810d0791              0\n\n[990 rows x 2 columns]",
      "text/html": "<div>\n<style scoped>\n    .dataframe tbody tr th:only-of-type {\n        vertical-align: middle;\n    }\n\n    .dataframe tbody tr th {\n        vertical-align: top;\n    }\n\n    .dataframe thead th {\n        text-align: right;\n    }\n</style>\n<table border=\"1\" class=\"dataframe\">\n  <thead>\n    <tr style=\"text-align: right;\">\n      <th></th>\n      <th>id</th>\n      <th>jenis kelamin</th>\n    </tr>\n  </thead>\n  <tbody>\n    <tr>\n      <th>0</th>\n      <td>005093b2-8c4b-4ed7-91c3-f5f4d50f8d27</td>\n      <td>0</td>\n    </tr>\n    <tr>\n      <th>1</th>\n      <td>0052554e-069e-4c43-beb0-0885e8f7684e</td>\n      <td>0</td>\n    </tr>\n    <tr>\n      <th>2</th>\n      <td>0092b954-1143-4a95-a17b-1edfa6af3b01</td>\n      <td>0</td>\n    </tr>\n    <tr>\n      <th>3</th>\n      <td>009fc28b-fe9b-441d-b8a2-ea8b7ae6ca16</td>\n      <td>0</td>\n    </tr>\n    <tr>\n      <th>4</th>\n      <td>00d0e306-06fe-45d8-ae6c-6f83ab8f7810</td>\n      <td>1</td>\n    </tr>\n    <tr>\n      <th>...</th>\n      <td>...</td>\n      <td>...</td>\n    </tr>\n    <tr>\n      <th>985</th>\n      <td>feb9e70f-4182-4500-866d-9b95657e727c</td>\n      <td>0</td>\n    </tr>\n    <tr>\n      <th>986</th>\n      <td>fed67ed2-620a-4ebf-b61e-16ef3d9b93f7</td>\n      <td>0</td>\n    </tr>\n    <tr>\n      <th>987</th>\n      <td>ff14c77e-c3c2-46db-9341-30de4130ef8a</td>\n      <td>1</td>\n    </tr>\n    <tr>\n      <th>988</th>\n      <td>ff662f3f-8c76-4d27-a73e-c43c4353f798</td>\n      <td>1</td>\n    </tr>\n    <tr>\n      <th>989</th>\n      <td>ffa30e4a-c056-4a2d-8c63-d266810d0791</td>\n      <td>0</td>\n    </tr>\n  </tbody>\n</table>\n<p>990 rows × 2 columns</p>\n</div>"
     },
     "execution_count": 35,
     "metadata": {},
     "output_type": "execute_result"
    }
   ],
   "source": [
    "submission[\"jenis kelamin\"] = submission[\"id\"].progress_apply(predict_gender)\n",
    "submission"
   ],
   "metadata": {
    "collapsed": false,
    "pycharm": {
     "name": "#%%\n"
    }
   }
  },
  {
   "cell_type": "code",
   "execution_count": 36,
   "outputs": [
    {
     "data": {
      "text/plain": "id               0\njenis kelamin    0\ndtype: int64"
     },
     "execution_count": 36,
     "metadata": {},
     "output_type": "execute_result"
    }
   ],
   "source": [
    "submission.isnull().sum()"
   ],
   "metadata": {
    "collapsed": false,
    "pycharm": {
     "name": "#%%\n"
    }
   }
  },
  {
   "cell_type": "code",
   "execution_count": 38,
   "outputs": [],
   "source": [
    "submission.to_csv(\"../data/result/submission.csv\", index=False)"
   ],
   "metadata": {
    "collapsed": false,
    "pycharm": {
     "name": "#%%\n"
    }
   }
  },
  {
   "cell_type": "code",
   "execution_count": null,
   "outputs": [],
   "source": [],
   "metadata": {
    "collapsed": false,
    "pycharm": {
     "name": "#%%\n"
    }
   }
  },
  {
   "cell_type": "code",
   "execution_count": null,
   "outputs": [],
   "source": [],
   "metadata": {
    "collapsed": false,
    "pycharm": {
     "name": "#%%\n"
    }
   }
  }
 ],
 "metadata": {
  "kernelspec": {
   "display_name": "Python 3",
   "language": "python",
   "name": "python3"
  },
  "language_info": {
   "codemirror_mode": {
    "name": "ipython",
    "version": 2
   },
   "file_extension": ".py",
   "mimetype": "text/x-python",
   "name": "python",
   "nbconvert_exporter": "python",
   "pygments_lexer": "ipython2",
   "version": "2.7.6"
  }
 },
 "nbformat": 4,
 "nbformat_minor": 0
}